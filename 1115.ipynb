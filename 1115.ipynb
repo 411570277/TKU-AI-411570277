{
  "nbformat": 4,
  "nbformat_minor": 0,
  "metadata": {
    "colab": {
      "provenance": [],
      "authorship_tag": "ABX9TyOLQDFVmvmLKrLGuLwaWFab",
      "include_colab_link": true
    },
    "kernelspec": {
      "name": "python3",
      "display_name": "Python 3"
    },
    "language_info": {
      "name": "python"
    }
  },
  "cells": [
    {
      "cell_type": "markdown",
      "metadata": {
        "id": "view-in-github",
        "colab_type": "text"
      },
      "source": [
        "<a href=\"https://colab.research.google.com/github/411570277/TKU-AI-411570277/blob/main/1115.ipynb\" target=\"_parent\"><img src=\"https://colab.research.google.com/assets/colab-badge.svg\" alt=\"Open In Colab\"/></a>"
      ]
    },
    {
      "cell_type": "code",
      "execution_count": 1,
      "metadata": {
        "colab": {
          "base_uri": "https://localhost:8080/"
        },
        "id": "ztxpsiswuE6i",
        "outputId": "b423abb2-4a76-4ddf-a179-b5d81f762332"
      },
      "outputs": [
        {
          "output_type": "stream",
          "name": "stdout",
          "text": [
            "Hi,Python\n"
          ]
        }
      ],
      "source": [
        "print(\"Hi,Python\")\n"
      ]
    },
    {
      "cell_type": "markdown",
      "source": [
        "今天是11月15號"
      ],
      "metadata": {
        "id": "6esE-Zpvu7lD"
      }
    },
    {
      "cell_type": "code",
      "source": [
        "print(\"今天是11月15號\")"
      ],
      "metadata": {
        "colab": {
          "base_uri": "https://localhost:8080/"
        },
        "id": "JuCkEpJIvuhy",
        "outputId": "826622dd-c775-42f7-db08-533895a0d906"
      },
      "execution_count": 3,
      "outputs": [
        {
          "output_type": "stream",
          "name": "stdout",
          "text": [
            "今天是11月15號\n"
          ]
        }
      ]
    },
    {
      "cell_type": "code",
      "source": [
        "print(\"林子勛 411570277\")"
      ],
      "metadata": {
        "colab": {
          "base_uri": "https://localhost:8080/"
        },
        "id": "AmKiwl2jxeyq",
        "outputId": "7db84376-9dea-4c57-d19e-de7c5af86cc3"
      },
      "execution_count": 4,
      "outputs": [
        {
          "output_type": "stream",
          "name": "stdout",
          "text": [
            "林子勛 411570277\n"
          ]
        }
      ]
    }
  ]
}